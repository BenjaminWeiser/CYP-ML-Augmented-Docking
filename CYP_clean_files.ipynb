{
  "nbformat": 4,
  "nbformat_minor": 0,
  "metadata": {
    "colab": {
      "provenance": []
    },
    "kernelspec": {
      "name": "python3",
      "display_name": "Python 3"
    },
    "language_info": {
      "name": "python"
    }
  },
  "cells": [
    {
      "cell_type": "code",
      "execution_count": null,
      "metadata": {
        "id": "FWaIHqzngz2p"
      },
      "outputs": [],
      "source": [
        "import pandas as pd\n",
        "import numpy as np"
      ]
    },
    {
      "cell_type": "code",
      "source": [
        "iso = '2c9'\n",
        "isoC= '2C9'\n",
        "a2 = pd.read_csv('/content/CYP1A2_smiles_test.csv')\n",
        "c19 = pd.read_csv('/content/CYP2C19_smiles_test.csv')\n",
        "c9 =pd.read_csv('/content/CYP2C9_smiles_test.csv')\n",
        "d6 = pd.read_csv('/content/CYP2D6_smiles_test.csv')\n",
        "a4 = pd.read_csv('/content/CYP3A4_smiles_test.csv')\n",
        "train = pd.read_csv('/content/CYP_smiles_train.csv')\n",
        "isodata = c9"
      ],
      "metadata": {
        "id": "6q5XNSW7iLtJ"
      },
      "execution_count": null,
      "outputs": []
    },
    {
      "cell_type": "code",
      "source": [
        "isodata.shape"
      ],
      "metadata": {
        "colab": {
          "base_uri": "https://localhost:8080/"
        },
        "id": "uwidsamsjYBb",
        "outputId": "97ab4b19-ef12-4e0d-e1d2-0a64aa5b4978"
      },
      "execution_count": null,
      "outputs": [
        {
          "output_type": "execute_result",
          "data": {
            "text/plain": [
              "(665, 3)"
            ]
          },
          "metadata": {},
          "execution_count": 59
        }
      ]
    },
    {
      "cell_type": "code",
      "source": [
        "\n",
        "train.head()\n"
      ],
      "metadata": {
        "colab": {
          "base_uri": "https://localhost:8080/",
          "height": 270
        },
        "id": "eyeNIIkmi1Kn",
        "outputId": "baaca4f5-a9d4-4a4c-84ba-b394ce8a0d60"
      },
      "execution_count": null,
      "outputs": [
        {
          "output_type": "execute_result",
          "data": {
            "text/plain": [
              "     Name                                             Smiles  label_1a2  \\\n",
              "0  842250  Fc1ccc(Cn2nnnc2CN(Cc3cc4c(nc3O)cc5OCOc5c4)CCCO...        1.0   \n",
              "1  842319   S1/C(=C\\2/c3c(N(C2=O)CC)cccc3)/C(=O)N(C1=S)CCCOC        1.0   \n",
              "2  842584                 Clc1c(-c2nc([nH]n2)-c3ccccc3)cccc1        1.0   \n",
              "3  842618  O(c1c(C(N2CCN(CC2)Cc3ccncc3)c4n(nnn4)C(C)(C)C)...        NaN   \n",
              "4  842697           O(c1c(CNC(=O)Cn2nc(nn2)-c3ccncc3)cccc1)C        1.0   \n",
              "\n",
              "   label_2c9  label_2c19  label_2d6  label_3a4  \n",
              "0        NaN         NaN        NaN        1.0  \n",
              "1        1.0         NaN        0.0        NaN  \n",
              "2        NaN         1.0        NaN        NaN  \n",
              "3        1.0         1.0        NaN        1.0  \n",
              "4        NaN         1.0        NaN        NaN  "
            ],
            "text/html": [
              "\n",
              "  <div id=\"df-f61a0db7-43c2-4a0e-9f7a-1c62a0799799\">\n",
              "    <div class=\"colab-df-container\">\n",
              "      <div>\n",
              "<style scoped>\n",
              "    .dataframe tbody tr th:only-of-type {\n",
              "        vertical-align: middle;\n",
              "    }\n",
              "\n",
              "    .dataframe tbody tr th {\n",
              "        vertical-align: top;\n",
              "    }\n",
              "\n",
              "    .dataframe thead th {\n",
              "        text-align: right;\n",
              "    }\n",
              "</style>\n",
              "<table border=\"1\" class=\"dataframe\">\n",
              "  <thead>\n",
              "    <tr style=\"text-align: right;\">\n",
              "      <th></th>\n",
              "      <th>Name</th>\n",
              "      <th>Smiles</th>\n",
              "      <th>label_1a2</th>\n",
              "      <th>label_2c9</th>\n",
              "      <th>label_2c19</th>\n",
              "      <th>label_2d6</th>\n",
              "      <th>label_3a4</th>\n",
              "    </tr>\n",
              "  </thead>\n",
              "  <tbody>\n",
              "    <tr>\n",
              "      <th>0</th>\n",
              "      <td>842250</td>\n",
              "      <td>Fc1ccc(Cn2nnnc2CN(Cc3cc4c(nc3O)cc5OCOc5c4)CCCO...</td>\n",
              "      <td>1.0</td>\n",
              "      <td>NaN</td>\n",
              "      <td>NaN</td>\n",
              "      <td>NaN</td>\n",
              "      <td>1.0</td>\n",
              "    </tr>\n",
              "    <tr>\n",
              "      <th>1</th>\n",
              "      <td>842319</td>\n",
              "      <td>S1/C(=C\\2/c3c(N(C2=O)CC)cccc3)/C(=O)N(C1=S)CCCOC</td>\n",
              "      <td>1.0</td>\n",
              "      <td>1.0</td>\n",
              "      <td>NaN</td>\n",
              "      <td>0.0</td>\n",
              "      <td>NaN</td>\n",
              "    </tr>\n",
              "    <tr>\n",
              "      <th>2</th>\n",
              "      <td>842584</td>\n",
              "      <td>Clc1c(-c2nc([nH]n2)-c3ccccc3)cccc1</td>\n",
              "      <td>1.0</td>\n",
              "      <td>NaN</td>\n",
              "      <td>1.0</td>\n",
              "      <td>NaN</td>\n",
              "      <td>NaN</td>\n",
              "    </tr>\n",
              "    <tr>\n",
              "      <th>3</th>\n",
              "      <td>842618</td>\n",
              "      <td>O(c1c(C(N2CCN(CC2)Cc3ccncc3)c4n(nnn4)C(C)(C)C)...</td>\n",
              "      <td>NaN</td>\n",
              "      <td>1.0</td>\n",
              "      <td>1.0</td>\n",
              "      <td>NaN</td>\n",
              "      <td>1.0</td>\n",
              "    </tr>\n",
              "    <tr>\n",
              "      <th>4</th>\n",
              "      <td>842697</td>\n",
              "      <td>O(c1c(CNC(=O)Cn2nc(nn2)-c3ccncc3)cccc1)C</td>\n",
              "      <td>1.0</td>\n",
              "      <td>NaN</td>\n",
              "      <td>1.0</td>\n",
              "      <td>NaN</td>\n",
              "      <td>NaN</td>\n",
              "    </tr>\n",
              "  </tbody>\n",
              "</table>\n",
              "</div>\n",
              "      <button class=\"colab-df-convert\" onclick=\"convertToInteractive('df-f61a0db7-43c2-4a0e-9f7a-1c62a0799799')\"\n",
              "              title=\"Convert this dataframe to an interactive table.\"\n",
              "              style=\"display:none;\">\n",
              "        \n",
              "  <svg xmlns=\"http://www.w3.org/2000/svg\" height=\"24px\"viewBox=\"0 0 24 24\"\n",
              "       width=\"24px\">\n",
              "    <path d=\"M0 0h24v24H0V0z\" fill=\"none\"/>\n",
              "    <path d=\"M18.56 5.44l.94 2.06.94-2.06 2.06-.94-2.06-.94-.94-2.06-.94 2.06-2.06.94zm-11 1L8.5 8.5l.94-2.06 2.06-.94-2.06-.94L8.5 2.5l-.94 2.06-2.06.94zm10 10l.94 2.06.94-2.06 2.06-.94-2.06-.94-.94-2.06-.94 2.06-2.06.94z\"/><path d=\"M17.41 7.96l-1.37-1.37c-.4-.4-.92-.59-1.43-.59-.52 0-1.04.2-1.43.59L10.3 9.45l-7.72 7.72c-.78.78-.78 2.05 0 2.83L4 21.41c.39.39.9.59 1.41.59.51 0 1.02-.2 1.41-.59l7.78-7.78 2.81-2.81c.8-.78.8-2.07 0-2.86zM5.41 20L4 18.59l7.72-7.72 1.47 1.35L5.41 20z\"/>\n",
              "  </svg>\n",
              "      </button>\n",
              "      \n",
              "  <style>\n",
              "    .colab-df-container {\n",
              "      display:flex;\n",
              "      flex-wrap:wrap;\n",
              "      gap: 12px;\n",
              "    }\n",
              "\n",
              "    .colab-df-convert {\n",
              "      background-color: #E8F0FE;\n",
              "      border: none;\n",
              "      border-radius: 50%;\n",
              "      cursor: pointer;\n",
              "      display: none;\n",
              "      fill: #1967D2;\n",
              "      height: 32px;\n",
              "      padding: 0 0 0 0;\n",
              "      width: 32px;\n",
              "    }\n",
              "\n",
              "    .colab-df-convert:hover {\n",
              "      background-color: #E2EBFA;\n",
              "      box-shadow: 0px 1px 2px rgba(60, 64, 67, 0.3), 0px 1px 3px 1px rgba(60, 64, 67, 0.15);\n",
              "      fill: #174EA6;\n",
              "    }\n",
              "\n",
              "    [theme=dark] .colab-df-convert {\n",
              "      background-color: #3B4455;\n",
              "      fill: #D2E3FC;\n",
              "    }\n",
              "\n",
              "    [theme=dark] .colab-df-convert:hover {\n",
              "      background-color: #434B5C;\n",
              "      box-shadow: 0px 1px 3px 1px rgba(0, 0, 0, 0.15);\n",
              "      filter: drop-shadow(0px 1px 2px rgba(0, 0, 0, 0.3));\n",
              "      fill: #FFFFFF;\n",
              "    }\n",
              "  </style>\n",
              "\n",
              "      <script>\n",
              "        const buttonEl =\n",
              "          document.querySelector('#df-f61a0db7-43c2-4a0e-9f7a-1c62a0799799 button.colab-df-convert');\n",
              "        buttonEl.style.display =\n",
              "          google.colab.kernel.accessAllowed ? 'block' : 'none';\n",
              "\n",
              "        async function convertToInteractive(key) {\n",
              "          const element = document.querySelector('#df-f61a0db7-43c2-4a0e-9f7a-1c62a0799799');\n",
              "          const dataTable =\n",
              "            await google.colab.kernel.invokeFunction('convertToInteractive',\n",
              "                                                     [key], {});\n",
              "          if (!dataTable) return;\n",
              "\n",
              "          const docLinkHtml = 'Like what you see? Visit the ' +\n",
              "            '<a target=\"_blank\" href=https://colab.research.google.com/notebooks/data_table.ipynb>data table notebook</a>'\n",
              "            + ' to learn more about interactive tables.';\n",
              "          element.innerHTML = '';\n",
              "          dataTable['output_type'] = 'display_data';\n",
              "          await google.colab.output.renderOutput(dataTable, element);\n",
              "          const docLink = document.createElement('div');\n",
              "          docLink.innerHTML = docLinkHtml;\n",
              "          element.appendChild(docLink);\n",
              "        }\n",
              "      </script>\n",
              "    </div>\n",
              "  </div>\n",
              "  "
            ]
          },
          "metadata": {},
          "execution_count": 60
        }
      ]
    },
    {
      "cell_type": "code",
      "source": [
        "train.shape"
      ],
      "metadata": {
        "colab": {
          "base_uri": "https://localhost:8080/"
        },
        "id": "Lkc8uswwjAQu",
        "outputId": "e0a8b006-d3e7-427e-d3ac-2d03ef28d054"
      },
      "execution_count": null,
      "outputs": [
        {
          "output_type": "execute_result",
          "data": {
            "text/plain": [
              "(13587, 7)"
            ]
          },
          "metadata": {},
          "execution_count": 61
        }
      ]
    },
    {
      "cell_type": "code",
      "source": [
        "\n",
        "\n",
        "add = train[['Name', 'Smiles', 'label_' + iso]]\n",
        "\n",
        "add = add.rename(columns={\"label_\" + iso:\"label\"})\n",
        "add.head()\n"
      ],
      "metadata": {
        "colab": {
          "base_uri": "https://localhost:8080/",
          "height": 206
        },
        "id": "f4g9h4JfjaU3",
        "outputId": "caaf985c-69a0-4324-9e64-9450fefc8087"
      },
      "execution_count": null,
      "outputs": [
        {
          "output_type": "execute_result",
          "data": {
            "text/plain": [
              "     Name                                             Smiles  label\n",
              "0  842250  Fc1ccc(Cn2nnnc2CN(Cc3cc4c(nc3O)cc5OCOc5c4)CCCO...    NaN\n",
              "1  842319   S1/C(=C\\2/c3c(N(C2=O)CC)cccc3)/C(=O)N(C1=S)CCCOC    1.0\n",
              "2  842584                 Clc1c(-c2nc([nH]n2)-c3ccccc3)cccc1    NaN\n",
              "3  842618  O(c1c(C(N2CCN(CC2)Cc3ccncc3)c4n(nnn4)C(C)(C)C)...    1.0\n",
              "4  842697           O(c1c(CNC(=O)Cn2nc(nn2)-c3ccncc3)cccc1)C    NaN"
            ],
            "text/html": [
              "\n",
              "  <div id=\"df-aff90328-b463-4ca7-b52c-d66e1c3722ef\">\n",
              "    <div class=\"colab-df-container\">\n",
              "      <div>\n",
              "<style scoped>\n",
              "    .dataframe tbody tr th:only-of-type {\n",
              "        vertical-align: middle;\n",
              "    }\n",
              "\n",
              "    .dataframe tbody tr th {\n",
              "        vertical-align: top;\n",
              "    }\n",
              "\n",
              "    .dataframe thead th {\n",
              "        text-align: right;\n",
              "    }\n",
              "</style>\n",
              "<table border=\"1\" class=\"dataframe\">\n",
              "  <thead>\n",
              "    <tr style=\"text-align: right;\">\n",
              "      <th></th>\n",
              "      <th>Name</th>\n",
              "      <th>Smiles</th>\n",
              "      <th>label</th>\n",
              "    </tr>\n",
              "  </thead>\n",
              "  <tbody>\n",
              "    <tr>\n",
              "      <th>0</th>\n",
              "      <td>842250</td>\n",
              "      <td>Fc1ccc(Cn2nnnc2CN(Cc3cc4c(nc3O)cc5OCOc5c4)CCCO...</td>\n",
              "      <td>NaN</td>\n",
              "    </tr>\n",
              "    <tr>\n",
              "      <th>1</th>\n",
              "      <td>842319</td>\n",
              "      <td>S1/C(=C\\2/c3c(N(C2=O)CC)cccc3)/C(=O)N(C1=S)CCCOC</td>\n",
              "      <td>1.0</td>\n",
              "    </tr>\n",
              "    <tr>\n",
              "      <th>2</th>\n",
              "      <td>842584</td>\n",
              "      <td>Clc1c(-c2nc([nH]n2)-c3ccccc3)cccc1</td>\n",
              "      <td>NaN</td>\n",
              "    </tr>\n",
              "    <tr>\n",
              "      <th>3</th>\n",
              "      <td>842618</td>\n",
              "      <td>O(c1c(C(N2CCN(CC2)Cc3ccncc3)c4n(nnn4)C(C)(C)C)...</td>\n",
              "      <td>1.0</td>\n",
              "    </tr>\n",
              "    <tr>\n",
              "      <th>4</th>\n",
              "      <td>842697</td>\n",
              "      <td>O(c1c(CNC(=O)Cn2nc(nn2)-c3ccncc3)cccc1)C</td>\n",
              "      <td>NaN</td>\n",
              "    </tr>\n",
              "  </tbody>\n",
              "</table>\n",
              "</div>\n",
              "      <button class=\"colab-df-convert\" onclick=\"convertToInteractive('df-aff90328-b463-4ca7-b52c-d66e1c3722ef')\"\n",
              "              title=\"Convert this dataframe to an interactive table.\"\n",
              "              style=\"display:none;\">\n",
              "        \n",
              "  <svg xmlns=\"http://www.w3.org/2000/svg\" height=\"24px\"viewBox=\"0 0 24 24\"\n",
              "       width=\"24px\">\n",
              "    <path d=\"M0 0h24v24H0V0z\" fill=\"none\"/>\n",
              "    <path d=\"M18.56 5.44l.94 2.06.94-2.06 2.06-.94-2.06-.94-.94-2.06-.94 2.06-2.06.94zm-11 1L8.5 8.5l.94-2.06 2.06-.94-2.06-.94L8.5 2.5l-.94 2.06-2.06.94zm10 10l.94 2.06.94-2.06 2.06-.94-2.06-.94-.94-2.06-.94 2.06-2.06.94z\"/><path d=\"M17.41 7.96l-1.37-1.37c-.4-.4-.92-.59-1.43-.59-.52 0-1.04.2-1.43.59L10.3 9.45l-7.72 7.72c-.78.78-.78 2.05 0 2.83L4 21.41c.39.39.9.59 1.41.59.51 0 1.02-.2 1.41-.59l7.78-7.78 2.81-2.81c.8-.78.8-2.07 0-2.86zM5.41 20L4 18.59l7.72-7.72 1.47 1.35L5.41 20z\"/>\n",
              "  </svg>\n",
              "      </button>\n",
              "      \n",
              "  <style>\n",
              "    .colab-df-container {\n",
              "      display:flex;\n",
              "      flex-wrap:wrap;\n",
              "      gap: 12px;\n",
              "    }\n",
              "\n",
              "    .colab-df-convert {\n",
              "      background-color: #E8F0FE;\n",
              "      border: none;\n",
              "      border-radius: 50%;\n",
              "      cursor: pointer;\n",
              "      display: none;\n",
              "      fill: #1967D2;\n",
              "      height: 32px;\n",
              "      padding: 0 0 0 0;\n",
              "      width: 32px;\n",
              "    }\n",
              "\n",
              "    .colab-df-convert:hover {\n",
              "      background-color: #E2EBFA;\n",
              "      box-shadow: 0px 1px 2px rgba(60, 64, 67, 0.3), 0px 1px 3px 1px rgba(60, 64, 67, 0.15);\n",
              "      fill: #174EA6;\n",
              "    }\n",
              "\n",
              "    [theme=dark] .colab-df-convert {\n",
              "      background-color: #3B4455;\n",
              "      fill: #D2E3FC;\n",
              "    }\n",
              "\n",
              "    [theme=dark] .colab-df-convert:hover {\n",
              "      background-color: #434B5C;\n",
              "      box-shadow: 0px 1px 3px 1px rgba(0, 0, 0, 0.15);\n",
              "      filter: drop-shadow(0px 1px 2px rgba(0, 0, 0, 0.3));\n",
              "      fill: #FFFFFF;\n",
              "    }\n",
              "  </style>\n",
              "\n",
              "      <script>\n",
              "        const buttonEl =\n",
              "          document.querySelector('#df-aff90328-b463-4ca7-b52c-d66e1c3722ef button.colab-df-convert');\n",
              "        buttonEl.style.display =\n",
              "          google.colab.kernel.accessAllowed ? 'block' : 'none';\n",
              "\n",
              "        async function convertToInteractive(key) {\n",
              "          const element = document.querySelector('#df-aff90328-b463-4ca7-b52c-d66e1c3722ef');\n",
              "          const dataTable =\n",
              "            await google.colab.kernel.invokeFunction('convertToInteractive',\n",
              "                                                     [key], {});\n",
              "          if (!dataTable) return;\n",
              "\n",
              "          const docLinkHtml = 'Like what you see? Visit the ' +\n",
              "            '<a target=\"_blank\" href=https://colab.research.google.com/notebooks/data_table.ipynb>data table notebook</a>'\n",
              "            + ' to learn more about interactive tables.';\n",
              "          element.innerHTML = '';\n",
              "          dataTable['output_type'] = 'display_data';\n",
              "          await google.colab.output.renderOutput(dataTable, element);\n",
              "          const docLink = document.createElement('div');\n",
              "          docLink.innerHTML = docLinkHtml;\n",
              "          element.appendChild(docLink);\n",
              "        }\n",
              "      </script>\n",
              "    </div>\n",
              "  </div>\n",
              "  "
            ]
          },
          "metadata": {},
          "execution_count": 62
        }
      ]
    },
    {
      "cell_type": "code",
      "source": [
        "combined = pd.concat([isodata, add])\n",
        "combined.shape"
      ],
      "metadata": {
        "colab": {
          "base_uri": "https://localhost:8080/"
        },
        "id": "u2tj6_56j7B6",
        "outputId": "123832d9-a2a5-4405-978f-b0a034dc6bdb"
      },
      "execution_count": null,
      "outputs": [
        {
          "output_type": "execute_result",
          "data": {
            "text/plain": [
              "(14252, 3)"
            ]
          },
          "metadata": {},
          "execution_count": 63
        }
      ]
    },
    {
      "cell_type": "code",
      "source": [
        "combined = combined.dropna()\n",
        "afterna = combined.shape[0]"
      ],
      "metadata": {
        "id": "A8XZs6NImRUD"
      },
      "execution_count": null,
      "outputs": []
    },
    {
      "cell_type": "code",
      "source": [
        "#check if duplicates are labeled differently \n",
        "combined = combined.drop_duplicates(subset='Smiles')\n",
        "combined.shape"
      ],
      "metadata": {
        "colab": {
          "base_uri": "https://localhost:8080/"
        },
        "id": "iArQhr6FmSqQ",
        "outputId": "407fc9f7-a24d-486b-afce-a3d22b08215d"
      },
      "execution_count": null,
      "outputs": [
        {
          "output_type": "execute_result",
          "data": {
            "text/plain": [
              "(9935, 3)"
            ]
          },
          "metadata": {},
          "execution_count": 65
        }
      ]
    },
    {
      "cell_type": "code",
      "source": [
        "active = combined[combined['label'] == 1]\n",
        "active = active[['Name', 'Smiles']]\n",
        "inactive = combined[combined['label'] == 0]\n",
        "inactive = inactive[['Name', 'Smiles']]\n",
        "patha = '/content/Smiles/' +isoC + '-active.smi'\n",
        "pathb = '/content/Smiles/' +isoC + '-inactive.smi'\n",
        "active.to_csv(patha, sep = ' ', header = None, mode = 'w', index = False)\n",
        "inactive.to_csv(pathb, sep = ' ', header = None, mode = 'w', index = False)"
      ],
      "metadata": {
        "id": "Itq1DIUKnEBO"
      },
      "execution_count": null,
      "outputs": []
    },
    {
      "cell_type": "code",
      "source": [
        "print(str(iso) + ' : The size of the ' + str(iso) + ' pei test set: ' + str(isodata.shape[0]) + '. The size of the pei training set is with data for all isoforms is ' + str(train.shape[0]) + '. After droping all NaN from combined test and train set: ' + str(afterna) + '. After dropping any duplicate smiles : ' + str(combined.shape[0]) + ' The final amount of actives are :' + str(active.shape[0]) + ' inactives :' + str(inactive.shape[0]))"
      ],
      "metadata": {
        "colab": {
          "base_uri": "https://localhost:8080/"
        },
        "id": "FPTcN-STorOT",
        "outputId": "2be2919c-a9b3-4afb-a49f-afa1499da8cb"
      },
      "execution_count": null,
      "outputs": [
        {
          "output_type": "stream",
          "name": "stdout",
          "text": [
            "2c9 : The size of the 2c9 pei test set: 665. The size of the pei training set is with data for all isoforms is 13587. After droping all NaN from combined test and train set: 10050. After dropping any duplicate smiles : 9935 The final amount of actives are :2603 inactives :7332\n"
          ]
        }
      ]
    },
    {
      "cell_type": "markdown",
      "source": [],
      "metadata": {
        "id": "oOZaX3YzX-gx"
      }
    }
  ]
}